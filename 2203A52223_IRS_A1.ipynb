{
  "nbformat": 4,
  "nbformat_minor": 0,
  "metadata": {
    "colab": {
      "provenance": [],
      "authorship_tag": "ABX9TyPYrVffuX06/oh6FXQ+ee9w",
      "include_colab_link": true
    },
    "kernelspec": {
      "name": "python3",
      "display_name": "Python 3"
    },
    "language_info": {
      "name": "python"
    }
  },
  "cells": [
    {
      "cell_type": "markdown",
      "metadata": {
        "id": "view-in-github",
        "colab_type": "text"
      },
      "source": [
        "<a href=\"https://colab.research.google.com/github/vinayreddy-arukala/Information_Retrieval_system/blob/main/2203A52223_IRS_A1.ipynb\" target=\"_parent\"><img src=\"https://colab.research.google.com/assets/colab-badge.svg\" alt=\"Open In Colab\"/></a>"
      ]
    },
    {
      "cell_type": "code",
      "source": [
        "#lowercase\n",
        "#Removing Punctuation\n",
        "# #eliminating stopwords\n",
        "# #Tokenizing the sentence\n",
        "# #word Tokenizing -> unique words (no duplicates)"
      ],
      "metadata": {
        "id": "EkaxEx-yyVAp"
      },
      "execution_count": 29,
      "outputs": []
    },
    {
      "cell_type": "code",
      "source": [
        "import nltk\n",
        "import string\n",
        "from nltk.corpus import stopwords\n",
        "from nltk.tokenize import word_tokenize\n",
        "from nltk.tokenize import sent_tokenize"
      ],
      "metadata": {
        "id": "Xz7qp3f64XXd"
      },
      "execution_count": 30,
      "outputs": []
    },
    {
      "cell_type": "code",
      "source": [
        "nltk.download('stopwords')\n",
        "nltk.download('punkt')\n",
        "nltk.download('punkt_tab')"
      ],
      "metadata": {
        "colab": {
          "base_uri": "https://localhost:8080/"
        },
        "id": "12CV5Q5I4jA0",
        "outputId": "9b2bbbe3-7dbf-4959-e661-362f787e68b1"
      },
      "execution_count": 31,
      "outputs": [
        {
          "output_type": "stream",
          "name": "stderr",
          "text": [
            "[nltk_data] Downloading package stopwords to /root/nltk_data...\n",
            "[nltk_data]   Package stopwords is already up-to-date!\n",
            "[nltk_data] Downloading package punkt to /root/nltk_data...\n",
            "[nltk_data]   Package punkt is already up-to-date!\n",
            "[nltk_data] Downloading package punkt_tab to /root/nltk_data...\n",
            "[nltk_data]   Package punkt_tab is already up-to-date!\n"
          ]
        },
        {
          "output_type": "execute_result",
          "data": {
            "text/plain": [
              "True"
            ]
          },
          "metadata": {},
          "execution_count": 31
        }
      ]
    },
    {
      "cell_type": "code",
      "execution_count": 32,
      "metadata": {
        "id": "27RTN8LPuUGq"
      },
      "outputs": [],
      "source": [
        "text=\"\"\"Machine learning algorithms are at the heart of many modern applications, including recommendation systems, fraud detection,\n",
        "and predictive analytics. As data becomes increasingly abundant, the need for scalable and efficient models is greater than ever.\n",
        " But with great power comes great responsibility, especially when it comes to ensuring fairness and transparency in AI systems.\"\"\"\n",
        "\n"
      ]
    },
    {
      "cell_type": "code",
      "source": [
        "#lowercase\n",
        "text=text.lower()\n",
        "print(\"Lowercase:\",text)"
      ],
      "metadata": {
        "colab": {
          "base_uri": "https://localhost:8080/"
        },
        "id": "ywRgFe304fbx",
        "outputId": "78230bd3-60ca-4f49-82b5-7719591f6f55"
      },
      "execution_count": 33,
      "outputs": [
        {
          "output_type": "stream",
          "name": "stdout",
          "text": [
            "Lowercase: machine learning algorithms are at the heart of many modern applications, including recommendation systems, fraud detection, \n",
            "and predictive analytics. as data becomes increasingly abundant, the need for scalable and efficient models is greater than ever.\n",
            " but with great power comes great responsibility, especially when it comes to ensuring fairness and transparency in ai systems.\n"
          ]
        }
      ]
    },
    {
      "cell_type": "code",
      "source": [
        "#Removing Punctuations\n",
        "# !\"#$%&'()*+,-./:;<=>?@[\\]^_`{|}~   -> string.punctuation contains all this\n",
        "\n",
        "remove_punctuationt=text.translate(str.maketrans('','',string.punctuation))\n",
        "print(\"After Removing Punctuations\",remove_punctuationt)"
      ],
      "metadata": {
        "colab": {
          "base_uri": "https://localhost:8080/"
        },
        "id": "oKrJ7CnFvRGf",
        "outputId": "1bacbb7c-80f6-45d4-d54c-50ed7b910a58"
      },
      "execution_count": 34,
      "outputs": [
        {
          "output_type": "stream",
          "name": "stdout",
          "text": [
            "machine learning algorithms are at the heart of many modern applications including recommendation systems fraud detection \n",
            "and predictive analytics as data becomes increasingly abundant the need for scalable and efficient models is greater than ever\n",
            " but with great power comes great responsibility especially when it comes to ensuring fairness and transparency in ai systems\n"
          ]
        }
      ]
    },
    {
      "cell_type": "code",
      "source": [
        "#Eliminating stopwords\n",
        "stop_words=stopwords.words('english')\n",
        "new_str=\"\"\n",
        "filtered_words=[word for word in words if word not in stop_words]\n",
        "new_str=\" \".join(filtered_words)\n",
        "print(filtered_words)\n",
        "print(new_str)"
      ],
      "metadata": {
        "colab": {
          "base_uri": "https://localhost:8080/"
        },
        "id": "8lW7MiXKxUjk",
        "outputId": "4b9a7f0c-a8c6-4f15-9239-72de1de22105"
      },
      "execution_count": 40,
      "outputs": [
        {
          "output_type": "stream",
          "name": "stdout",
          "text": [
            "['machine', 'learning', 'algorithms', 'heart', 'many', 'modern', 'applications', 'including', 'recommendation', 'systems', 'fraud', 'detection', 'predictive', 'analytics', 'data', 'becomes', 'increasingly', 'abundant', 'need', 'scalable', 'efficient', 'models', 'greater', 'ever', 'great', 'power', 'comes', 'great', 'responsibility', 'especially', 'comes', 'ensuring', 'fairness', 'transparency', 'ai', 'systems']\n",
            "machine learning algorithms heart many modern applications including recommendation systems fraud detection predictive analytics data becomes increasingly abundant need scalable efficient models greater ever great power comes great responsibility especially comes ensuring fairness transparency ai systems\n"
          ]
        }
      ]
    },
    {
      "cell_type": "code",
      "source": [
        "#Tokenizing sentence and words\n",
        "words=word_tokenize(text)\n",
        "print(words)\n",
        "\n",
        "sentence=sent_tokenize(text)\n",
        "print(sentence)"
      ],
      "metadata": {
        "colab": {
          "base_uri": "https://localhost:8080/"
        },
        "id": "DwfIoZZ4ybzD",
        "outputId": "2d74e9b8-927f-4d1e-deaf-bc5fc222c2eb"
      },
      "execution_count": 41,
      "outputs": [
        {
          "output_type": "stream",
          "name": "stdout",
          "text": [
            "['machine', 'learning', 'algorithms', 'are', 'at', 'the', 'heart', 'of', 'many', 'modern', 'applications', ',', 'including', 'recommendation', 'systems', ',', 'fraud', 'detection', ',', 'and', 'predictive', 'analytics', '.', 'as', 'data', 'becomes', 'increasingly', 'abundant', ',', 'the', 'need', 'for', 'scalable', 'and', 'efficient', 'models', 'is', 'greater', 'than', 'ever', '.', 'but', 'with', 'great', 'power', 'comes', 'great', 'responsibility', ',', 'especially', 'when', 'it', 'comes', 'to', 'ensuring', 'fairness', 'and', 'transparency', 'in', 'ai', 'systems', '.']\n",
            "['machine learning algorithms are at the heart of many modern applications, including recommendation systems, fraud detection, \\nand predictive analytics.', 'as data becomes increasingly abundant, the need for scalable and efficient models is greater than ever.', 'but with great power comes great responsibility, especially when it comes to ensuring fairness and transparency in ai systems.']\n"
          ]
        }
      ]
    },
    {
      "cell_type": "code",
      "source": [],
      "metadata": {
        "id": "HPHDUyxGzR8K"
      },
      "execution_count": null,
      "outputs": []
    }
  ]
}